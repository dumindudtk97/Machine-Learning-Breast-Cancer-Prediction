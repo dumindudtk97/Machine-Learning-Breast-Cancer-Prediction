{
  "nbformat": 4,
  "nbformat_minor": 0,
  "metadata": {
    "colab": {
      "name": "BreastCancerPredictionCO544.ipynb",
      "provenance": [],
      "collapsed_sections": [],
      "include_colab_link": true
    },
    "kernelspec": {
      "name": "python3",
      "display_name": "Python 3"
    },
    "language_info": {
      "name": "python"
    }
  },
  "cells": [
    {
      "cell_type": "markdown",
      "metadata": {
        "id": "view-in-github",
        "colab_type": "text"
      },
      "source": [
        "<a href=\"https://colab.research.google.com/github/dumindudtk97/Machine-Learning-Breast-Cancer-Prediction/blob/main/BreastCancerPredictionCO544.ipynb\" target=\"_parent\"><img src=\"https://colab.research.google.com/assets/colab-badge.svg\" alt=\"Open In Colab\"/></a>"
      ]
    },
    {
      "cell_type": "markdown",
      "metadata": {
        "id": "6Xjra8vPJpef"
      },
      "source": [
        "Mounting Drive"
      ]
    },
    {
      "cell_type": "code",
      "metadata": {
        "colab": {
          "base_uri": "https://localhost:8080/"
        },
        "id": "hYWcr1VNcYId",
        "outputId": "18feded1-66b9-460d-9443-5a759f7b4b07"
      },
      "source": [
        "from google.colab import drive\n",
        "drive.mount('/content/gdrive')"
      ],
      "execution_count": null,
      "outputs": [
        {
          "output_type": "stream",
          "text": [
            "Mounted at /content/gdrive\n"
          ],
          "name": "stdout"
        }
      ]
    },
    {
      "cell_type": "markdown",
      "metadata": {
        "id": "XJE_D7VpJMlJ"
      },
      "source": [
        "Import dependencies"
      ]
    },
    {
      "cell_type": "code",
      "metadata": {
        "id": "wdzCtdv_JUde"
      },
      "source": [
        "import numpy as np\n",
        "import pandas as pd\n",
        "import matplotlib.pyplot as plt\n",
        "from sklearn.preprocessing import StandardScaler\n",
        "from sklearn.model_selection import train_test_split\n",
        "from sklearn import svm\n",
        "from sklearn.metrics import accuracy_score"
      ],
      "execution_count": null,
      "outputs": []
    },
    {
      "cell_type": "markdown",
      "metadata": {
        "id": "bqvG4e06eRWc"
      },
      "source": [
        "# ***WorkFlow***\n",
        "**Data Collection --> Analysis --> Standardization --> Split --> Train --> Accuracy --> Present**"
      ]
    },
    {
      "cell_type": "code",
      "metadata": {
        "id": "89XVZkO9J_oN"
      },
      "source": [
        "# loading the Breast Cancer dataset to a pandas DataFrame\n",
        "BreastCancer_dataset = pd.read_csv('gdrive/My Drive/Colab Notebooks/BreastCancerPrediction/dataR2.csv') "
      ],
      "execution_count": null,
      "outputs": []
    },
    {
      "cell_type": "code",
      "metadata": {
        "colab": {
          "base_uri": "https://localhost:8080/",
          "height": 203
        },
        "id": "2qnoHY6GLA24",
        "outputId": "c2b38423-47cf-416e-8852-44c704b5bac3"
      },
      "source": [
        "# printing some values to get an overview\n",
        "BreastCancer_dataset.head()"
      ],
      "execution_count": null,
      "outputs": [
        {
          "output_type": "execute_result",
          "data": {
            "text/html": [
              "<div>\n",
              "<style scoped>\n",
              "    .dataframe tbody tr th:only-of-type {\n",
              "        vertical-align: middle;\n",
              "    }\n",
              "\n",
              "    .dataframe tbody tr th {\n",
              "        vertical-align: top;\n",
              "    }\n",
              "\n",
              "    .dataframe thead th {\n",
              "        text-align: right;\n",
              "    }\n",
              "</style>\n",
              "<table border=\"1\" class=\"dataframe\">\n",
              "  <thead>\n",
              "    <tr style=\"text-align: right;\">\n",
              "      <th></th>\n",
              "      <th>Age</th>\n",
              "      <th>BMI</th>\n",
              "      <th>Glucose</th>\n",
              "      <th>Insulin</th>\n",
              "      <th>HOMA</th>\n",
              "      <th>Leptin</th>\n",
              "      <th>Adiponectin</th>\n",
              "      <th>Resistin</th>\n",
              "      <th>MCP.1</th>\n",
              "      <th>Classification</th>\n",
              "    </tr>\n",
              "  </thead>\n",
              "  <tbody>\n",
              "    <tr>\n",
              "      <th>0</th>\n",
              "      <td>48</td>\n",
              "      <td>23.500000</td>\n",
              "      <td>70</td>\n",
              "      <td>2.707</td>\n",
              "      <td>0.467409</td>\n",
              "      <td>8.8071</td>\n",
              "      <td>9.702400</td>\n",
              "      <td>7.99585</td>\n",
              "      <td>417.114</td>\n",
              "      <td>1</td>\n",
              "    </tr>\n",
              "    <tr>\n",
              "      <th>1</th>\n",
              "      <td>83</td>\n",
              "      <td>20.690495</td>\n",
              "      <td>92</td>\n",
              "      <td>3.115</td>\n",
              "      <td>0.706897</td>\n",
              "      <td>8.8438</td>\n",
              "      <td>5.429285</td>\n",
              "      <td>4.06405</td>\n",
              "      <td>468.786</td>\n",
              "      <td>1</td>\n",
              "    </tr>\n",
              "    <tr>\n",
              "      <th>2</th>\n",
              "      <td>82</td>\n",
              "      <td>23.124670</td>\n",
              "      <td>91</td>\n",
              "      <td>4.498</td>\n",
              "      <td>1.009651</td>\n",
              "      <td>17.9393</td>\n",
              "      <td>22.432040</td>\n",
              "      <td>9.27715</td>\n",
              "      <td>554.697</td>\n",
              "      <td>1</td>\n",
              "    </tr>\n",
              "    <tr>\n",
              "      <th>3</th>\n",
              "      <td>68</td>\n",
              "      <td>21.367521</td>\n",
              "      <td>77</td>\n",
              "      <td>3.226</td>\n",
              "      <td>0.612725</td>\n",
              "      <td>9.8827</td>\n",
              "      <td>7.169560</td>\n",
              "      <td>12.76600</td>\n",
              "      <td>928.220</td>\n",
              "      <td>1</td>\n",
              "    </tr>\n",
              "    <tr>\n",
              "      <th>4</th>\n",
              "      <td>86</td>\n",
              "      <td>21.111111</td>\n",
              "      <td>92</td>\n",
              "      <td>3.549</td>\n",
              "      <td>0.805386</td>\n",
              "      <td>6.6994</td>\n",
              "      <td>4.819240</td>\n",
              "      <td>10.57635</td>\n",
              "      <td>773.920</td>\n",
              "      <td>1</td>\n",
              "    </tr>\n",
              "  </tbody>\n",
              "</table>\n",
              "</div>"
            ],
            "text/plain": [
              "   Age        BMI  Glucose  ...  Resistin    MCP.1  Classification\n",
              "0   48  23.500000       70  ...   7.99585  417.114               1\n",
              "1   83  20.690495       92  ...   4.06405  468.786               1\n",
              "2   82  23.124670       91  ...   9.27715  554.697               1\n",
              "3   68  21.367521       77  ...  12.76600  928.220               1\n",
              "4   86  21.111111       92  ...  10.57635  773.920               1\n",
              "\n",
              "[5 rows x 10 columns]"
            ]
          },
          "metadata": {
            "tags": []
          },
          "execution_count": 6
        }
      ]
    },
    {
      "cell_type": "markdown",
      "metadata": {
        "id": "1eRpElTiLgVv"
      },
      "source": [
        "**Labels**\n",
        "\n",
        "*   Healthy Controls :  1\n",
        "*   Patients         :  2\n"
      ]
    },
    {
      "cell_type": "markdown",
      "metadata": {
        "id": "cUcXNoYDLvmt"
      },
      "source": [
        "**Quantitative Attributes:**\n",
        "\n",
        "*   Age (years)\n",
        "*   BMI (kg/m2)\n",
        "*   Glucose (mg/dL)\n",
        "*   Insulin (µU/mL)\n",
        "*   HOMA\n",
        "*   Leptin (ng/mL)\n",
        "*   Adiponectin (µg/mL)\n",
        "*   Resistin (ng/mL)\n",
        "*   MCP-1(pg/dL)"
      ]
    },
    {
      "cell_type": "code",
      "metadata": {
        "colab": {
          "base_uri": "https://localhost:8080/"
        },
        "id": "urhwqn_WNqaN",
        "outputId": "be9a9619-376d-4b3e-cd3f-55b81e451b67"
      },
      "source": [
        "# number of rows and Columns in this dataset\n",
        "BreastCancer_dataset.shape"
      ],
      "execution_count": null,
      "outputs": [
        {
          "output_type": "execute_result",
          "data": {
            "text/plain": [
              "(116, 10)"
            ]
          },
          "metadata": {
            "tags": []
          },
          "execution_count": 4
        }
      ]
    },
    {
      "cell_type": "code",
      "metadata": {
        "colab": {
          "base_uri": "https://localhost:8080/",
          "height": 295
        },
        "id": "frUnafSsN9_l",
        "outputId": "51aef819-9628-4306-d35c-614f3cd63dd8"
      },
      "source": [
        "# getting the statistical measures of the data\n",
        "BreastCancer_dataset.describe()"
      ],
      "execution_count": null,
      "outputs": [
        {
          "output_type": "execute_result",
          "data": {
            "text/html": [
              "<div>\n",
              "<style scoped>\n",
              "    .dataframe tbody tr th:only-of-type {\n",
              "        vertical-align: middle;\n",
              "    }\n",
              "\n",
              "    .dataframe tbody tr th {\n",
              "        vertical-align: top;\n",
              "    }\n",
              "\n",
              "    .dataframe thead th {\n",
              "        text-align: right;\n",
              "    }\n",
              "</style>\n",
              "<table border=\"1\" class=\"dataframe\">\n",
              "  <thead>\n",
              "    <tr style=\"text-align: right;\">\n",
              "      <th></th>\n",
              "      <th>Age</th>\n",
              "      <th>BMI</th>\n",
              "      <th>Glucose</th>\n",
              "      <th>Insulin</th>\n",
              "      <th>HOMA</th>\n",
              "      <th>Leptin</th>\n",
              "      <th>Adiponectin</th>\n",
              "      <th>Resistin</th>\n",
              "      <th>MCP.1</th>\n",
              "      <th>Classification</th>\n",
              "    </tr>\n",
              "  </thead>\n",
              "  <tbody>\n",
              "    <tr>\n",
              "      <th>count</th>\n",
              "      <td>116.000000</td>\n",
              "      <td>116.000000</td>\n",
              "      <td>116.000000</td>\n",
              "      <td>116.000000</td>\n",
              "      <td>116.000000</td>\n",
              "      <td>116.000000</td>\n",
              "      <td>116.000000</td>\n",
              "      <td>116.000000</td>\n",
              "      <td>116.000000</td>\n",
              "      <td>116.000000</td>\n",
              "    </tr>\n",
              "    <tr>\n",
              "      <th>mean</th>\n",
              "      <td>57.301724</td>\n",
              "      <td>27.582111</td>\n",
              "      <td>97.793103</td>\n",
              "      <td>10.012086</td>\n",
              "      <td>2.694988</td>\n",
              "      <td>26.615080</td>\n",
              "      <td>10.180874</td>\n",
              "      <td>14.725966</td>\n",
              "      <td>534.647000</td>\n",
              "      <td>1.551724</td>\n",
              "    </tr>\n",
              "    <tr>\n",
              "      <th>std</th>\n",
              "      <td>16.112766</td>\n",
              "      <td>5.020136</td>\n",
              "      <td>22.525162</td>\n",
              "      <td>10.067768</td>\n",
              "      <td>3.642043</td>\n",
              "      <td>19.183294</td>\n",
              "      <td>6.843341</td>\n",
              "      <td>12.390646</td>\n",
              "      <td>345.912663</td>\n",
              "      <td>0.499475</td>\n",
              "    </tr>\n",
              "    <tr>\n",
              "      <th>min</th>\n",
              "      <td>24.000000</td>\n",
              "      <td>18.370000</td>\n",
              "      <td>60.000000</td>\n",
              "      <td>2.432000</td>\n",
              "      <td>0.467409</td>\n",
              "      <td>4.311000</td>\n",
              "      <td>1.656020</td>\n",
              "      <td>3.210000</td>\n",
              "      <td>45.843000</td>\n",
              "      <td>1.000000</td>\n",
              "    </tr>\n",
              "    <tr>\n",
              "      <th>25%</th>\n",
              "      <td>45.000000</td>\n",
              "      <td>22.973205</td>\n",
              "      <td>85.750000</td>\n",
              "      <td>4.359250</td>\n",
              "      <td>0.917966</td>\n",
              "      <td>12.313675</td>\n",
              "      <td>5.474282</td>\n",
              "      <td>6.881763</td>\n",
              "      <td>269.978250</td>\n",
              "      <td>1.000000</td>\n",
              "    </tr>\n",
              "    <tr>\n",
              "      <th>50%</th>\n",
              "      <td>56.000000</td>\n",
              "      <td>27.662416</td>\n",
              "      <td>92.000000</td>\n",
              "      <td>5.924500</td>\n",
              "      <td>1.380939</td>\n",
              "      <td>20.271000</td>\n",
              "      <td>8.352692</td>\n",
              "      <td>10.827740</td>\n",
              "      <td>471.322500</td>\n",
              "      <td>2.000000</td>\n",
              "    </tr>\n",
              "    <tr>\n",
              "      <th>75%</th>\n",
              "      <td>71.000000</td>\n",
              "      <td>31.241442</td>\n",
              "      <td>102.000000</td>\n",
              "      <td>11.189250</td>\n",
              "      <td>2.857787</td>\n",
              "      <td>37.378300</td>\n",
              "      <td>11.815970</td>\n",
              "      <td>17.755207</td>\n",
              "      <td>700.085000</td>\n",
              "      <td>2.000000</td>\n",
              "    </tr>\n",
              "    <tr>\n",
              "      <th>max</th>\n",
              "      <td>89.000000</td>\n",
              "      <td>38.578759</td>\n",
              "      <td>201.000000</td>\n",
              "      <td>58.460000</td>\n",
              "      <td>25.050342</td>\n",
              "      <td>90.280000</td>\n",
              "      <td>38.040000</td>\n",
              "      <td>82.100000</td>\n",
              "      <td>1698.440000</td>\n",
              "      <td>2.000000</td>\n",
              "    </tr>\n",
              "  </tbody>\n",
              "</table>\n",
              "</div>"
            ],
            "text/plain": [
              "              Age         BMI  ...        MCP.1  Classification\n",
              "count  116.000000  116.000000  ...   116.000000      116.000000\n",
              "mean    57.301724   27.582111  ...   534.647000        1.551724\n",
              "std     16.112766    5.020136  ...   345.912663        0.499475\n",
              "min     24.000000   18.370000  ...    45.843000        1.000000\n",
              "25%     45.000000   22.973205  ...   269.978250        1.000000\n",
              "50%     56.000000   27.662416  ...   471.322500        2.000000\n",
              "75%     71.000000   31.241442  ...   700.085000        2.000000\n",
              "max     89.000000   38.578759  ...  1698.440000        2.000000\n",
              "\n",
              "[8 rows x 10 columns]"
            ]
          },
          "metadata": {
            "tags": []
          },
          "execution_count": 5
        }
      ]
    },
    {
      "cell_type": "code",
      "metadata": {
        "colab": {
          "base_uri": "https://localhost:8080/"
        },
        "id": "x0DMmFDDOK7m",
        "outputId": "508cc79b-5ca8-411e-ad2d-5766659ec945"
      },
      "source": [
        "# number of healthy controls and patients (1 healthy, 2 patients)\n",
        "BreastCancer_dataset['Classification'].value_counts()"
      ],
      "execution_count": null,
      "outputs": [
        {
          "output_type": "execute_result",
          "data": {
            "text/plain": [
              "2    64\n",
              "1    52\n",
              "Name: Classification, dtype: int64"
            ]
          },
          "metadata": {
            "tags": []
          },
          "execution_count": 6
        }
      ]
    },
    {
      "cell_type": "code",
      "metadata": {
        "colab": {
          "base_uri": "https://localhost:8080/",
          "height": 142
        },
        "id": "6HMGMe7mOjhF",
        "outputId": "04b6ce5e-f094-4e13-8635-d89c7d7d2ceb"
      },
      "source": [
        "# Analyse healthy vs patients by mean value\n",
        "BreastCancer_dataset.groupby('Classification').mean()"
      ],
      "execution_count": null,
      "outputs": [
        {
          "output_type": "execute_result",
          "data": {
            "text/html": [
              "<div>\n",
              "<style scoped>\n",
              "    .dataframe tbody tr th:only-of-type {\n",
              "        vertical-align: middle;\n",
              "    }\n",
              "\n",
              "    .dataframe tbody tr th {\n",
              "        vertical-align: top;\n",
              "    }\n",
              "\n",
              "    .dataframe thead th {\n",
              "        text-align: right;\n",
              "    }\n",
              "</style>\n",
              "<table border=\"1\" class=\"dataframe\">\n",
              "  <thead>\n",
              "    <tr style=\"text-align: right;\">\n",
              "      <th></th>\n",
              "      <th>Age</th>\n",
              "      <th>BMI</th>\n",
              "      <th>Glucose</th>\n",
              "      <th>Insulin</th>\n",
              "      <th>HOMA</th>\n",
              "      <th>Leptin</th>\n",
              "      <th>Adiponectin</th>\n",
              "      <th>Resistin</th>\n",
              "      <th>MCP.1</th>\n",
              "    </tr>\n",
              "    <tr>\n",
              "      <th>Classification</th>\n",
              "      <th></th>\n",
              "      <th></th>\n",
              "      <th></th>\n",
              "      <th></th>\n",
              "      <th></th>\n",
              "      <th></th>\n",
              "      <th></th>\n",
              "      <th></th>\n",
              "      <th></th>\n",
              "    </tr>\n",
              "  </thead>\n",
              "  <tbody>\n",
              "    <tr>\n",
              "      <th>1</th>\n",
              "      <td>58.076923</td>\n",
              "      <td>28.317336</td>\n",
              "      <td>88.230769</td>\n",
              "      <td>6.933769</td>\n",
              "      <td>1.552398</td>\n",
              "      <td>26.637933</td>\n",
              "      <td>10.328205</td>\n",
              "      <td>11.614813</td>\n",
              "      <td>499.730692</td>\n",
              "    </tr>\n",
              "    <tr>\n",
              "      <th>2</th>\n",
              "      <td>56.671875</td>\n",
              "      <td>26.984740</td>\n",
              "      <td>105.562500</td>\n",
              "      <td>12.513219</td>\n",
              "      <td>3.623342</td>\n",
              "      <td>26.596512</td>\n",
              "      <td>10.061167</td>\n",
              "      <td>17.253777</td>\n",
              "      <td>563.016500</td>\n",
              "    </tr>\n",
              "  </tbody>\n",
              "</table>\n",
              "</div>"
            ],
            "text/plain": [
              "                      Age        BMI  ...   Resistin       MCP.1\n",
              "Classification                        ...                       \n",
              "1               58.076923  28.317336  ...  11.614813  499.730692\n",
              "2               56.671875  26.984740  ...  17.253777  563.016500\n",
              "\n",
              "[2 rows x 9 columns]"
            ]
          },
          "metadata": {
            "tags": []
          },
          "execution_count": 7
        }
      ]
    },
    {
      "cell_type": "markdown",
      "metadata": {
        "id": "NVcVj1HSPzb8"
      },
      "source": [
        "Separate the Classification to seperate data into Test and Train"
      ]
    },
    {
      "cell_type": "code",
      "metadata": {
        "id": "0TP-4Y9vPx7-"
      },
      "source": [
        "# separating the data and labels\n",
        "X = BreastCancer_dataset.drop(columns = 'Classification', axis=1)  # axis = 1 (specify column)\n",
        "Y = BreastCancer_dataset['Classification']"
      ],
      "execution_count": null,
      "outputs": []
    },
    {
      "cell_type": "code",
      "metadata": {
        "colab": {
          "base_uri": "https://localhost:8080/"
        },
        "id": "XqbvhoYxQWds",
        "outputId": "c6ba8187-1837-48fb-adb4-eb87d3bce759"
      },
      "source": [
        "print(X)  # print ds to make sure"
      ],
      "execution_count": null,
      "outputs": [
        {
          "output_type": "stream",
          "text": [
            "     Age        BMI  Glucose  Insulin  ...   Leptin  Adiponectin  Resistin    MCP.1\n",
            "0     48  23.500000       70    2.707  ...   8.8071     9.702400   7.99585  417.114\n",
            "1     83  20.690495       92    3.115  ...   8.8438     5.429285   4.06405  468.786\n",
            "2     82  23.124670       91    4.498  ...  17.9393    22.432040   9.27715  554.697\n",
            "3     68  21.367521       77    3.226  ...   9.8827     7.169560  12.76600  928.220\n",
            "4     86  21.111111       92    3.549  ...   6.6994     4.819240  10.57635  773.920\n",
            "..   ...        ...      ...      ...  ...      ...          ...       ...      ...\n",
            "111   45  26.850000       92    3.330  ...  54.6800    12.100000  10.96000  268.230\n",
            "112   62  26.840000      100    4.530  ...  12.4500    21.420000   7.32000  330.160\n",
            "113   65  32.050000       97    5.730  ...  61.4800    22.540000  10.33000  314.050\n",
            "114   72  25.590000       82    2.820  ...  24.9600    33.750000   3.27000  392.460\n",
            "115   86  27.180000      138   19.910  ...  90.2800    14.110000   4.35000   90.090\n",
            "\n",
            "[116 rows x 9 columns]\n"
          ],
          "name": "stdout"
        }
      ]
    },
    {
      "cell_type": "code",
      "metadata": {
        "colab": {
          "base_uri": "https://localhost:8080/"
        },
        "id": "wU1rSgcAQWPm",
        "outputId": "dc72d2ff-b420-4a1a-d312-07880519faa9"
      },
      "source": [
        "print(Y)"
      ],
      "execution_count": null,
      "outputs": [
        {
          "output_type": "stream",
          "text": [
            "0      1\n",
            "1      1\n",
            "2      1\n",
            "3      1\n",
            "4      1\n",
            "      ..\n",
            "111    2\n",
            "112    2\n",
            "113    2\n",
            "114    2\n",
            "115    2\n",
            "Name: Classification, Length: 116, dtype: int64\n"
          ],
          "name": "stdout"
        }
      ]
    },
    {
      "cell_type": "markdown",
      "metadata": {
        "id": "zFNAXFrYQnU2"
      },
      "source": [
        "# **Data Normalization and Standardization**"
      ]
    },
    {
      "cell_type": "markdown",
      "metadata": {
        "id": "zjrqeH-sRvIf"
      },
      "source": [
        "**Data Standardization**"
      ]
    },
    {
      "cell_type": "code",
      "metadata": {
        "id": "zgQxvGhyQkL9"
      },
      "source": [
        "# get standard scalar  z = (x - u) / s  ; u = mean , s = standard deviation (range - to + value depend on data)\n",
        "scaler = StandardScaler()   #Standardize features by removing the mean and scaling to unit variance"
      ],
      "execution_count": null,
      "outputs": []
    },
    {
      "cell_type": "code",
      "metadata": {
        "colab": {
          "base_uri": "https://localhost:8080/"
        },
        "id": "Dn5EhiVTSEjl",
        "outputId": "00315537-9fe0-4111-94b5-8b494dbf49dd"
      },
      "source": [
        "scaler.fit(X)  # Compute the mean and std to be used for later scaling."
      ],
      "execution_count": null,
      "outputs": [
        {
          "output_type": "execute_result",
          "data": {
            "text/plain": [
              "StandardScaler(copy=True, with_mean=True, with_std=True)"
            ]
          },
          "metadata": {
            "tags": []
          },
          "execution_count": 12
        }
      ]
    },
    {
      "cell_type": "code",
      "metadata": {
        "id": "tmQuh4uzTFsc"
      },
      "source": [
        "standardized_data = scaler.transform(X)   # Perform standardization by centering and scaling"
      ],
      "execution_count": null,
      "outputs": []
    },
    {
      "cell_type": "code",
      "metadata": {
        "colab": {
          "base_uri": "https://localhost:8080/"
        },
        "id": "vooWV8gJTO20",
        "outputId": "c39fbd2d-ef08-48cb-f37a-e8c7fbdcf3e8"
      },
      "source": [
        "print(standardized_data)  # see standardized data"
      ],
      "execution_count": null,
      "outputs": [
        {
          "output_type": "stream",
          "text": [
            "[[-0.57979363 -0.81667527 -1.23922225 ... -0.07022151 -0.54551749\n",
            "  -0.34125061]\n",
            " [ 1.60182096 -1.37875056 -0.25829943 ... -0.69734988 -0.86421418\n",
            "  -0.1912238 ]\n",
            " [ 1.53948912 -0.89176446 -0.30288683 ...  1.79799836 -0.4416602\n",
            "   0.05821407]\n",
            " ...\n",
            " [ 0.47984774  0.89385486 -0.03536242 ...  1.81384272 -0.3563202\n",
            "  -0.64049127]\n",
            " [ 0.91617066 -0.39854568 -0.70417344 ...  3.45903808 -0.92857684\n",
            "  -0.41283214]\n",
            " [ 1.7888165  -0.0804471   1.79272102 ...  0.57664406 -0.84103616\n",
            "  -1.29074683]]\n"
          ],
          "name": "stdout"
        }
      ]
    },
    {
      "cell_type": "code",
      "metadata": {
        "id": "A4yj4v0VUbYc"
      },
      "source": [
        "# take standardize data for further processing \n",
        "X = standardized_data                 \n",
        "Y = BreastCancer_dataset['Classification']"
      ],
      "execution_count": null,
      "outputs": []
    },
    {
      "cell_type": "code",
      "metadata": {
        "colab": {
          "base_uri": "https://localhost:8080/"
        },
        "id": "1QNyJwWzUs2L",
        "outputId": "c5b3ba54-2b5f-40a5-c75f-404500fea453"
      },
      "source": [
        "print(X)\n",
        "print(Y)"
      ],
      "execution_count": null,
      "outputs": [
        {
          "output_type": "stream",
          "text": [
            "     Age        BMI  Glucose  Insulin  ...   Leptin  Adiponectin  Resistin    MCP.1\n",
            "0     48  23.500000       70    2.707  ...   8.8071     9.702400   7.99585  417.114\n",
            "1     83  20.690495       92    3.115  ...   8.8438     5.429285   4.06405  468.786\n",
            "2     82  23.124670       91    4.498  ...  17.9393    22.432040   9.27715  554.697\n",
            "3     68  21.367521       77    3.226  ...   9.8827     7.169560  12.76600  928.220\n",
            "4     86  21.111111       92    3.549  ...   6.6994     4.819240  10.57635  773.920\n",
            "..   ...        ...      ...      ...  ...      ...          ...       ...      ...\n",
            "111   45  26.850000       92    3.330  ...  54.6800    12.100000  10.96000  268.230\n",
            "112   62  26.840000      100    4.530  ...  12.4500    21.420000   7.32000  330.160\n",
            "113   65  32.050000       97    5.730  ...  61.4800    22.540000  10.33000  314.050\n",
            "114   72  25.590000       82    2.820  ...  24.9600    33.750000   3.27000  392.460\n",
            "115   86  27.180000      138   19.910  ...  90.2800    14.110000   4.35000   90.090\n",
            "\n",
            "[116 rows x 9 columns]\n",
            "0      1\n",
            "1      1\n",
            "2      1\n",
            "3      1\n",
            "4      1\n",
            "      ..\n",
            "111    2\n",
            "112    2\n",
            "113    2\n",
            "114    2\n",
            "115    2\n",
            "Name: Classification, Length: 116, dtype: int64\n"
          ],
          "name": "stdout"
        }
      ]
    },
    {
      "cell_type": "markdown",
      "metadata": {
        "id": "r-QbKn9cU7qU"
      },
      "source": [
        "# **Split dataset : Train set , Test set**"
      ]
    },
    {
      "cell_type": "code",
      "metadata": {
        "id": "IfvXggd9Uwsu"
      },
      "source": [
        "# split ( make sure we split them roughly with equal patients and healthy into both sides )\n",
        "# Test set size 20%\n",
        "X_train, X_test, Y_train, Y_test = train_test_split(X,Y, test_size = 0.2, stratify=Y, random_state=2)"
      ],
      "execution_count": null,
      "outputs": []
    },
    {
      "cell_type": "code",
      "metadata": {
        "colab": {
          "base_uri": "https://localhost:8080/"
        },
        "id": "kNEPvEa_VRpl",
        "outputId": "5a6cb111-a96d-47ec-da58-249766d722ad"
      },
      "source": [
        "print(X.shape, X_train.shape, X_test.shape)"
      ],
      "execution_count": null,
      "outputs": [
        {
          "output_type": "stream",
          "text": [
            "(116, 9) (92, 9) (24, 9)\n"
          ],
          "name": "stdout"
        }
      ]
    },
    {
      "cell_type": "markdown",
      "metadata": {
        "id": "b43CmCthVxzk"
      },
      "source": [
        "# **Train the model**"
      ]
    },
    {
      "cell_type": "code",
      "metadata": {
        "id": "lm8PMJIGV76d"
      },
      "source": [
        "# source vector \n",
        "\n",
        "classifier = svm.SVC(kernel='linear')"
      ],
      "execution_count": null,
      "outputs": []
    },
    {
      "cell_type": "code",
      "metadata": {
        "colab": {
          "base_uri": "https://localhost:8080/"
        },
        "id": "jc3haq47bygs",
        "outputId": "63decf07-13e8-49e7-c249-c054c30685a2"
      },
      "source": [
        "#training the support vector Machine Classifier\n",
        "classifier.fit(X_train, Y_train)"
      ],
      "execution_count": null,
      "outputs": [
        {
          "output_type": "execute_result",
          "data": {
            "text/plain": [
              "SVC(C=1.0, break_ties=False, cache_size=200, class_weight=None, coef0=0.0,\n",
              "    decision_function_shape='ovr', degree=3, gamma='scale', kernel='linear',\n",
              "    max_iter=-1, probability=False, random_state=None, shrinking=True,\n",
              "    tol=0.001, verbose=False)"
            ]
          },
          "metadata": {
            "tags": []
          },
          "execution_count": 19
        }
      ]
    },
    {
      "cell_type": "code",
      "metadata": {
        "id": "Y_JikgIocCUm"
      },
      "source": [
        ""
      ],
      "execution_count": null,
      "outputs": []
    },
    {
      "cell_type": "markdown",
      "metadata": {
        "id": "3MkecVSzcPYo"
      },
      "source": [
        "# **Accuracy Score**"
      ]
    },
    {
      "cell_type": "code",
      "metadata": {
        "id": "Y0AqTBcZcOjO"
      },
      "source": [
        "# accuracy score on the training data\n",
        "X_train_prediction = classifier.predict(X_train)\n",
        "training_data_accuracy = accuracy_score(X_train_prediction, Y_train)"
      ],
      "execution_count": null,
      "outputs": []
    },
    {
      "cell_type": "code",
      "metadata": {
        "colab": {
          "base_uri": "https://localhost:8080/"
        },
        "id": "Rmfzz_Wrca-y",
        "outputId": "f03d2c2a-0e72-46fa-ee29-1bc2861658f6"
      },
      "source": [
        "print('Accuracy score of the training data : ', training_data_accuracy)"
      ],
      "execution_count": null,
      "outputs": [
        {
          "output_type": "stream",
          "text": [
            "Accuracy score of the training data :  0.7934782608695652\n"
          ],
          "name": "stdout"
        }
      ]
    },
    {
      "cell_type": "code",
      "metadata": {
        "id": "DEjZcIHUdDCj"
      },
      "source": [
        "# accuracy score on the test data\n",
        "X_test_prediction = classifier.predict(X_test)\n",
        "test_data_accuracy = accuracy_score(X_test_prediction, Y_test)"
      ],
      "execution_count": null,
      "outputs": []
    },
    {
      "cell_type": "code",
      "metadata": {
        "colab": {
          "base_uri": "https://localhost:8080/"
        },
        "id": "fj3s8GXcdGv6",
        "outputId": "63d8e375-04c3-4757-ae32-b29663465481"
      },
      "source": [
        "print('Accuracy score of the test data : ', test_data_accuracy)"
      ],
      "execution_count": null,
      "outputs": [
        {
          "output_type": "stream",
          "text": [
            "Accuracy score of the test data :  0.7083333333333334\n"
          ],
          "name": "stdout"
        }
      ]
    },
    {
      "cell_type": "markdown",
      "metadata": {
        "id": "2lP_Ciz4dNof"
      },
      "source": [
        "# **Predictive System**"
      ]
    },
    {
      "cell_type": "code",
      "metadata": {
        "colab": {
          "base_uri": "https://localhost:8080/"
        },
        "id": "5iyXtQ69dIOr",
        "outputId": "e5937bc3-86ed-4b94-e000-bb64918e79c3"
      },
      "source": [
        "input_data = (45,20.83,74,4.56,0.832,7.76,8.24,28,384)\n",
        "\n",
        "# changing the input_data to numpy array\n",
        "input_data_as_numpy_array = np.asarray(input_data)\n",
        "\n",
        "# reshape the array as we are predicting for one instance\n",
        "input_data_reshaped = input_data_as_numpy_array.reshape(1,-1)\n",
        "\n",
        "# standardize the input data\n",
        "std_data = scaler.transform(input_data_reshaped)\n",
        "print(std_data)\n",
        "\n",
        "prediction = classifier.predict(std_data)\n",
        "print(prediction)\n",
        "\n",
        "if (prediction[0] == 1):\n",
        "  print('The person likely to be healthy')\n",
        "else:\n",
        "  print('The person likely to have Brest Cancer')"
      ],
      "execution_count": null,
      "outputs": [
        {
          "output_type": "stream",
          "text": [
            "[[-0.76678917 -1.35084081 -1.06087264 -0.54388816 -0.51374184 -0.98715483\n",
            "  -0.28484539  1.07594251 -0.43739529]]\n",
            "[1]\n",
            "The person likely to be healthy\n"
          ],
          "name": "stdout"
        }
      ]
    },
    {
      "cell_type": "code",
      "metadata": {
        "id": "IkfkotyhEQzp"
      },
      "source": [
        ""
      ],
      "execution_count": null,
      "outputs": []
    }
  ]
}